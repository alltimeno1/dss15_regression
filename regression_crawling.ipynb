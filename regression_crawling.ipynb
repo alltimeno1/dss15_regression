{
 "cells": [
  {
   "cell_type": "code",
   "execution_count": null,
   "metadata": {},
   "outputs": [],
   "source": [
    "# Preprocessing Channel Name"
   ]
  },
  {
   "cell_type": "code",
   "execution_count": 1,
   "metadata": {
    "scrolled": false
   },
   "outputs": [],
   "source": [
    "import re\n",
    "import pandas as pd\n",
    "\n",
    "dic = []\n",
    "twitch_df = pd.read_csv(\"twitchdata-update.csv\")\n",
    "\n",
    "for idx, item in twitch_df.iterrows():\n",
    "    if \"(\" in item[\"Channel\"]:\n",
    "        twitch_df[\"Channel\"][idx] = re.findall(\"\\(([a-z0-9_]+)\\)\", item[\"Channel\"])[0]\n",
    "    else:\n",
    "        twitch_df[\"Channel\"][idx] = item[\"Channel\"]"
   ]
  },
  {
   "cell_type": "code",
   "execution_count": null,
   "metadata": {},
   "outputs": [],
   "source": [
    "# Crawling"
   ]
  },
  {
   "cell_type": "code",
   "execution_count": null,
   "metadata": {},
   "outputs": [],
   "source": [
    "import requests, json\n",
    "from bs4 import BeautifulSoup\n",
    "\n",
    "df = []\n",
    "for channel in twitch_df[\"Channel\"]:\n",
    "    url = \"https://twitchtracker.com/{}\".format(channel)\n",
    "    req = requests.get(url, headers={'User-Agent': 'Mozilla/5.0 (Macintosh; Intel Mac OS X 10_8_2) AppleWebKit/537.17 (KHTML, like Gecko) Chrome/24.0.1309.0 Safari/537.17'})\n",
    "    soup = BeautifulSoup(req.text, 'html.parser')\n",
    "    try:\n",
    "        date = soup.select_one('#content-wrapper > div.container > section.row > div.col-md-3.col-sm-4 > ul > li:nth-child(5) > div:nth-child(2) > div:nth-child(2) > span').text\n",
    "    except:\n",
    "        date = None\n",
    "    df.append({'Channel':channel, 'Date' : date})\n",
    "\n",
    "date_df = pd.DataFrame(df)"
   ]
  },
  {
   "cell_type": "code",
   "execution_count": null,
   "metadata": {},
   "outputs": [],
   "source": [
    "# Save as a csv file"
   ]
  },
  {
   "cell_type": "code",
   "execution_count": null,
   "metadata": {},
   "outputs": [],
   "source": [
    "date_df.to_csv(\"twitch_date.csv\")"
   ]
  },
  {
   "cell_type": "code",
   "execution_count": null,
   "metadata": {},
   "outputs": [],
   "source": [
    "# merge into original dataset"
   ]
  },
  {
   "cell_type": "code",
   "execution_count": 4,
   "metadata": {},
   "outputs": [],
   "source": [
    "twitch_date = pd.read_csv(\"twitch_date.csv\")\n",
    "twitch_date.drop(columns=\"Unnamed: 0\",inplace=True)"
   ]
  },
  {
   "cell_type": "code",
   "execution_count": 8,
   "metadata": {
    "scrolled": true
   },
   "outputs": [
    {
     "data": {
      "text/html": [
       "<div>\n",
       "<style scoped>\n",
       "    .dataframe tbody tr th:only-of-type {\n",
       "        vertical-align: middle;\n",
       "    }\n",
       "\n",
       "    .dataframe tbody tr th {\n",
       "        vertical-align: top;\n",
       "    }\n",
       "\n",
       "    .dataframe thead th {\n",
       "        text-align: right;\n",
       "    }\n",
       "</style>\n",
       "<table border=\"1\" class=\"dataframe\">\n",
       "  <thead>\n",
       "    <tr style=\"text-align: right;\">\n",
       "      <th></th>\n",
       "      <th>Channel</th>\n",
       "      <th>Watch time(Minutes)</th>\n",
       "      <th>Stream time(minutes)</th>\n",
       "      <th>Peak viewers</th>\n",
       "      <th>Average viewers</th>\n",
       "      <th>Followers</th>\n",
       "      <th>Followers gained</th>\n",
       "      <th>Views gained</th>\n",
       "      <th>Partnered</th>\n",
       "      <th>Mature</th>\n",
       "      <th>Language</th>\n",
       "      <th>Date</th>\n",
       "    </tr>\n",
       "  </thead>\n",
       "  <tbody>\n",
       "    <tr>\n",
       "      <th>998</th>\n",
       "      <td>AndyMilonakis</td>\n",
       "      <td>122311065</td>\n",
       "      <td>104745</td>\n",
       "      <td>10543</td>\n",
       "      <td>1153</td>\n",
       "      <td>547446</td>\n",
       "      <td>109111</td>\n",
       "      <td>3926918</td>\n",
       "      <td>True</td>\n",
       "      <td>False</td>\n",
       "      <td>English</td>\n",
       "      <td>2013-11-20 10:15</td>\n",
       "    </tr>\n",
       "    <tr>\n",
       "      <th>999</th>\n",
       "      <td>Remx</td>\n",
       "      <td>122192850</td>\n",
       "      <td>99180</td>\n",
       "      <td>13788</td>\n",
       "      <td>1205</td>\n",
       "      <td>178553</td>\n",
       "      <td>59432</td>\n",
       "      <td>2049420</td>\n",
       "      <td>True</td>\n",
       "      <td>False</td>\n",
       "      <td>French</td>\n",
       "      <td>2013-12-21 0:22</td>\n",
       "    </tr>\n",
       "  </tbody>\n",
       "</table>\n",
       "</div>"
      ],
      "text/plain": [
       "           Channel  Watch time(Minutes)  Stream time(minutes)  Peak viewers  \\\n",
       "998  AndyMilonakis            122311065                104745         10543   \n",
       "999           Remx            122192850                 99180         13788   \n",
       "\n",
       "     Average viewers  Followers  Followers gained  Views gained  Partnered  \\\n",
       "998             1153     547446            109111       3926918       True   \n",
       "999             1205     178553             59432       2049420       True   \n",
       "\n",
       "     Mature Language              Date  \n",
       "998   False  English  2013-11-20 10:15  \n",
       "999   False   French   2013-12-21 0:22  "
      ]
     },
     "execution_count": 8,
     "metadata": {},
     "output_type": "execute_result"
    }
   ],
   "source": [
    "twitch = twitch_df.merge(twitch_date, on='Channel')\n",
    "twitch.tail(2)"
   ]
  },
  {
   "cell_type": "code",
   "execution_count": null,
   "metadata": {},
   "outputs": [],
   "source": [
    "# Save as a csv file"
   ]
  },
  {
   "cell_type": "code",
   "execution_count": 9,
   "metadata": {},
   "outputs": [],
   "source": [
    "twitch.to_csv(\"twitch.csv\")"
   ]
  },
  {
   "cell_type": "code",
   "execution_count": null,
   "metadata": {},
   "outputs": [],
   "source": []
  }
 ],
 "metadata": {
  "kernelspec": {
   "display_name": "Python 3",
   "language": "python",
   "name": "python3"
  },
  "language_info": {
   "codemirror_mode": {
    "name": "ipython",
    "version": 3
   },
   "file_extension": ".py",
   "mimetype": "text/x-python",
   "name": "python",
   "nbconvert_exporter": "python",
   "pygments_lexer": "ipython3",
   "version": "3.8.3"
  }
 },
 "nbformat": 4,
 "nbformat_minor": 4
}
